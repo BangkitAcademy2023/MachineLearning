{
 "cells": [
  {
   "cell_type": "code",
   "execution_count": 1,
   "id": "6654cbf6",
   "metadata": {},
   "outputs": [],
   "source": [
    "import csv\n",
    "import random\n",
    "from datetime import datetime, timedelta"
   ]
  },
  {
   "cell_type": "code",
   "execution_count": 6,
   "id": "70139555",
   "metadata": {},
   "outputs": [],
   "source": [
    "def generate_dummy_sales_data(start_date, end_date):\n",
    "    data = []\n",
    "    current_date = start_date\n",
    "\n",
    "    while current_date <= end_date:\n",
    "        # Generate dummy sales data for each day\n",
    "        sales = {\n",
    "            'Date': current_date.strftime('%Y-%m-%d'),\n",
    "            'Product A': random.randint(2, 50),\n",
    "            'IsWeekend': current_date.weekday() >= 5  # True if weekend, False if weekday\n",
    "        }\n",
    "        data.append(sales)\n",
    "\n",
    "        current_date = current_date + timedelta(days=1)\n",
    "\n",
    "    return data\n",
    "\n",
    "def save_data_to_csv(data, filename):\n",
    "    keys = data[0].keys()\n",
    "\n",
    "    with open(filename, 'w', newline='') as csv_file:\n",
    "        writer = csv.DictWriter(csv_file, fieldnames=keys)\n",
    "        writer.writeheader()\n",
    "        writer.writerows(data)"
   ]
  },
  {
   "cell_type": "code",
   "execution_count": 7,
   "id": "809c473d",
   "metadata": {},
   "outputs": [],
   "source": [
    "start_date = datetime(2020, 1, 1)\n",
    "end_date = datetime(2023, 12, 31)\n",
    "dummy_sales_data = generate_dummy_sales_data(start_date, end_date)\n",
    "save_data_to_csv(dummy_sales_data, 'sales_data.csv')"
   ]
  },
  {
   "cell_type": "code",
   "execution_count": null,
   "id": "2276dfce",
   "metadata": {},
   "outputs": [],
   "source": []
  }
 ],
 "metadata": {
  "kernelspec": {
   "display_name": "Python 3 (ipykernel)",
   "language": "python",
   "name": "python3"
  },
  "language_info": {
   "codemirror_mode": {
    "name": "ipython",
    "version": 3
   },
   "file_extension": ".py",
   "mimetype": "text/x-python",
   "name": "python",
   "nbconvert_exporter": "python",
   "pygments_lexer": "ipython3",
   "version": "3.10.9"
  }
 },
 "nbformat": 4,
 "nbformat_minor": 5
}
